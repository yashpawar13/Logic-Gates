{
 "cells": [
  {
   "cell_type": "code",
   "execution_count": null,
   "id": "def940b3",
   "metadata": {},
   "outputs": [],
   "source": [
    "import gates"
   ]
  },
  {
   "cell_type": "code",
   "execution_count": null,
   "id": "739ee332",
   "metadata": {},
   "outputs": [],
   "source": [
    "print (\"Entre Bollean 1 or 0: \")\n",
    "\n",
    "A = int(input (\"A = \"))\n",
    "B = int(input (\"B = \"))\n",
    "Q = input(\"Expression: \")\n",
    "\n",
    "print(\"Q = \",eval(gates.sub(Q)))"
   ]
  }
 ],
 "metadata": {
  "kernelspec": {
   "display_name": "Python 3",
   "language": "python",
   "name": "python3"
  },
  "language_info": {
   "codemirror_mode": {
    "name": "ipython",
    "version": 3
   },
   "file_extension": ".py",
   "mimetype": "text/x-python",
   "name": "python",
   "nbconvert_exporter": "python",
   "pygments_lexer": "ipython3",
   "version": "3.8.8"
  }
 },
 "nbformat": 4,
 "nbformat_minor": 5
}
